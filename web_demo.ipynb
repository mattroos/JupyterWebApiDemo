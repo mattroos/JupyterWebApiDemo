{
 "cells": [
  {
   "cell_type": "code",
   "execution_count": 1,
   "metadata": {},
   "outputs": [],
   "source": [
    "import numpy as np\n",
    "from ipywidgets import Text, Button, Layout, Output\n",
    "import joblib"
   ]
  },
  {
   "cell_type": "code",
   "execution_count": 2,
   "metadata": {},
   "outputs": [],
   "source": [
    "x1_input = Text(\n",
    "    placeholder='Any value',\n",
    "    description='x1:',\n",
    "    disabled=False,\n",
    "    layout=Layout(width=\"350px\"),\n",
    "    style={'description_width': '100px'}\n",
    ")\n",
    "\n",
    "x2_input = Text(\n",
    "    placeholder='Any value',\n",
    "    description='x2:',\n",
    "    disabled=False,\n",
    "    layout=Layout(width=\"350px\"),\n",
    "    style={'description_width': '100px'}\n",
    ")"
   ]
  },
  {
   "cell_type": "code",
   "execution_count": 3,
   "metadata": {},
   "outputs": [
    {
     "data": {
      "application/vnd.jupyter.widget-view+json": {
       "model_id": "649b490652c442ab91f6ebcaa442b3a1",
       "version_major": 2,
       "version_minor": 0
      },
      "text/plain": [
       "Text(value='', description='x1:', layout=Layout(width='350px'), placeholder='Any value', style=DescriptionStyl…"
      ]
     },
     "metadata": {},
     "output_type": "display_data"
    },
    {
     "data": {
      "application/vnd.jupyter.widget-view+json": {
       "model_id": "eedeac48ca164f878314f5c1b4114ddf",
       "version_major": 2,
       "version_minor": 0
      },
      "text/plain": [
       "Text(value='', description='x2:', layout=Layout(width='350px'), placeholder='Any value', style=DescriptionStyl…"
      ]
     },
     "metadata": {},
     "output_type": "display_data"
    }
   ],
   "source": [
    "display(x1_input, x2_input)"
   ]
  },
  {
   "cell_type": "code",
   "execution_count": 4,
   "metadata": {},
   "outputs": [],
   "source": [
    "predict_button = Button(description=\"Predict!\")\n",
    "result = Output()"
   ]
  },
  {
   "cell_type": "code",
   "execution_count": 5,
   "metadata": {},
   "outputs": [],
   "source": [
    "model_file = './models/model_linear.joblib'\n",
    "my_model = joblib.load(model_file)\n",
    "\n",
    "def predict(button_info):\n",
    "    try:\n",
    "        x1 = float(x1_input.value)\n",
    "        x2 = float(x2_input.value)\n",
    "\n",
    "        test_sample = np.array([x1, x2])\n",
    "\n",
    "        y_pred = my_model.predict([test_sample])\n",
    "\n",
    "        with result:\n",
    "            print(f\"The values you entered gave a prediction of {y_pred}.\")\n",
    "    except Exception as e:\n",
    "        with result:\n",
    "            print(e)"
   ]
  },
  {
   "cell_type": "code",
   "execution_count": 6,
   "metadata": {},
   "outputs": [],
   "source": [
    "predict_button.on_click(predict)"
   ]
  },
  {
   "cell_type": "code",
   "execution_count": 7,
   "metadata": {},
   "outputs": [
    {
     "data": {
      "application/vnd.jupyter.widget-view+json": {
       "model_id": "8651cdb707fa47f4a0ae8d105e86906c",
       "version_major": 2,
       "version_minor": 0
      },
      "text/plain": [
       "Button(description='Predict!', style=ButtonStyle())"
      ]
     },
     "metadata": {},
     "output_type": "display_data"
    },
    {
     "data": {
      "application/vnd.jupyter.widget-view+json": {
       "model_id": "820596c7fcdd4f6cacac51aa479cbd42",
       "version_major": 2,
       "version_minor": 0
      },
      "text/plain": [
       "Output()"
      ]
     },
     "metadata": {},
     "output_type": "display_data"
    }
   ],
   "source": [
    "display(predict_button, result)"
   ]
  }
 ],
 "metadata": {
  "kernelspec": {
   "display_name": "Python 3",
   "language": "python",
   "name": "python3"
  },
  "language_info": {
   "codemirror_mode": {
    "name": "ipython",
    "version": 3
   },
   "file_extension": ".py",
   "mimetype": "text/x-python",
   "name": "python",
   "nbconvert_exporter": "python",
   "pygments_lexer": "ipython3",
   "version": "3.7.4"
  }
 },
 "nbformat": 4,
 "nbformat_minor": 2
}
